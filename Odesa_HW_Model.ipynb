{
 "cells": [
  {
   "cell_type": "code",
   "execution_count": 1071,
   "id": "0d747c7d",
   "metadata": {},
   "outputs": [],
   "source": [
    "import matplotlib.pyplot as plt\n",
    "import pandas as pd\n",
    "\n",
    "  \n",
    "def onehot(x):\n",
    "    return (2**(x-1)) if x != 0 else 0\n",
    "\n",
    "def comparator(a):\n",
    "    df= pd.DataFrame(a)\n",
    "    amax = df.max(axis=0)\n",
    "    aidx = df.idxmax(axis=0)\n",
    "    c = []\n",
    "    for i in range(len(aidx)):\n",
    "        c.append(onehot(aidx[i]+1) if amax[i]!=0 else 0)\n",
    "    return c\n",
    "\n",
    "def flatten_ts(_2d_list):\n",
    "    if not isinstance(_2d_list, list):\n",
    "        return [_2d_list]  \n",
    "    _1d_list = []\n",
    "    seen = set()\n",
    "    for i in _2d_list:\n",
    "        if isinstance(i, list):\n",
    "            for j in i:\n",
    "                if j not in seen:\n",
    "                    seen.add(j)\n",
    "                    _1d_list.append(j)\n",
    "        else:\n",
    "            if i not in seen:\n",
    "                seen.add(i)\n",
    "                _1d_list.append(i)\n",
    "    \n",
    "    _1d_list.sort()\n",
    "    return _1d_list\n",
    "\n",
    "\n",
    "def layer_output_spike(input_spike, output_vector, neuron_num):\n",
    "    time_stamp = [[] for _ in range(neuron_num)]\n",
    "    ints = flatten_ts(input_spike)\n",
    "\n",
    "    for i in ints:\n",
    "        for j in range(neuron_num):\n",
    "            if(output_vector[i] == onehot(j+1)):\n",
    "                time_stamp[j].append(i)\n",
    "            elif(output_vector[i+1] == onehot(j+1)):\n",
    "                time_stamp[j].append(i+1)\n",
    "            elif(output_vector[i+2] == onehot(j+1)):\n",
    "                time_stamp[j].append(i+2)                \n",
    "    return time_stamp\n",
    "\n",
    "\n",
    "class Synapse:\n",
    "    def __init__(self, w, ts):\n",
    "        self.w = w\n",
    "        self.ts = ts\n",
    "        self.membrane_potential = 0\n",
    "    \n",
    "    def update(self, t):\n",
    "        if t in self.ts:\n",
    "            self.membrane_potential = self.membrane_potential + self.w*(2**8)\n",
    "        else:\n",
    "            self.membrane_potential -= self.w\n",
    "        \n",
    "        if self.membrane_potential < 0:\n",
    "            self.membrane_potential = 0\n",
    "    \n",
    "    def run(self, time):\n",
    "        self.membrane_potential = 0\n",
    "        output = []\n",
    "        for t in range(time):\n",
    "            self.update(t)\n",
    "            output.append(self.membrane_potential)\n",
    "        return output\n",
    "    \n",
    "\n",
    "class Neuron:\n",
    "    def __init__(self, n, synapse_weights, synapse_spikes, threshold):\n",
    "        self.n = n\n",
    "        self.synapses = []\n",
    "        self.synapse_weights = synapse_weights\n",
    "        for i in range(n):\n",
    "            self.synapses.append(Synapse(w=self.synapse_weights[i], ts=synapse_spikes[i]))\n",
    "        self.threshold = threshold\n",
    "    \n",
    "    def update(self):\n",
    "        sum_result = sum(self.synapses[i].membrane_potential for i in range(self.n))\n",
    "        if sum_result >= self.threshold:\n",
    "            return sum_result\n",
    "        else:\n",
    "            return 0\n",
    "    \n",
    "    def run(self, time):\n",
    "        output = []\n",
    "        for t in range(time):\n",
    "            for i in range(self.n):\n",
    "                self.synapses[i].update(t)\n",
    "            output.append(self.update())\n",
    "        return output\n",
    "\n",
    "\n",
    "class Layer:\n",
    "    def __init__(self, neuron_num, neuron_input_num, synapse_weights, synapse_spikes, threshold):\n",
    "        self.neuron_num =  neuron_num\n",
    "        self.neurons = [Neuron(neuron_input_num, synapse_weights[i], synapse_spikes, threshold[i]) for i in range(neuron_num)]\n",
    "    \n",
    "    def runlayer(self, time):\n",
    "        output = []\n",
    "        for t in range(time):\n",
    "            neuron_outputs = [n.run(t) for n in self.neurons]\n",
    "        max_output = max(neuron_outputs)\n",
    "        neuron_index = comparator(neuron_outputs)\n",
    "        layer_output = max_output \n",
    "        output.append(layer_output)\n",
    "        return output, neuron_index\n",
    "    \n",
    "    "
   ]
  },
  {
   "cell_type": "code",
   "execution_count": 1072,
   "id": "57b2e8b0",
   "metadata": {},
   "outputs": [
    {
     "data": {
      "image/png": "[encoded data removed]",
      "text/plain": [
       "<Figure size 432x288 with 1 Axes>"
      ]
     },
     "metadata": {
      "needs_background": "light"
     },
     "output_type": "display_data"
    }
   ],
   "source": [
    "# testing synapse\n",
    "synapse = Synapse(w=10, ts=[10,150])\n",
    "output = synapse.run(time=800)\n",
    "\n",
    "plt.plot(range(800), output)\n",
    "plt.xlabel('Time')\n",
    "plt.ylabel('Membrane Potential')\n",
    "plt.title('Output of Synapse')\n",
    "plt.show()\n"
   ]
  },
  {
   "cell_type": "code",
   "execution_count": 1073,
   "id": "7415e67f",
   "metadata": {},
   "outputs": [
    {
     "data": {
      "image/png": "[encoded data removed]",
      "text/plain": [
       "<Figure size 432x288 with 1 Axes>"
      ]
     },
     "metadata": {
      "needs_background": "light"
     },
     "output_type": "display_data"
    }
   ],
   "source": [
    "synapse_weights = [10, 10]\n",
    "synapse_spikes = [[10, 50],[100,150]]\n",
    "th = 3500\n",
    "neuron = Neuron(n=2, synapse_weights=synapse_weights, synapse_spikes=synapse_spikes, threshold=th)\n",
    "\n",
    "output = neuron.run(time=1000)\n",
    "plt.plot(range(1000), output)\n",
    "plt.xlabel('Time')\n",
    "plt.ylabel('Neuron Output')\n",
    "plt.title('Output of Neuron')\n",
    "plt.show()"
   ]
  },
  {
   "cell_type": "code",
   "execution_count": 1074,
   "id": "b72ff549",
   "metadata": {},
   "outputs": [
    {
     "data": {
      "text/plain": [
       "<matplotlib.legend.Legend at 0x18b96790>"
      ]
     },
     "execution_count": 1074,
     "metadata": {},
     "output_type": "execute_result"
    },
    {
     "data": {
      "image/png": "[encoded data removed]",
      "text/plain": [
       "<Figure size 432x288 with 1 Axes>"
      ]
     },
     "metadata": {
      "needs_background": "light"
     },
     "output_type": "display_data"
    }
   ],
   "source": [
    "sy = neuron.synapses\n",
    "for i in sy:\n",
    "    plt.plot(i.run(time =1000))\n",
    "plt.legend([\"s1\",\"s2\"])"
   ]
  },
  {
   "cell_type": "code",
   "execution_count": 1075,
   "id": "e7a401d7",
   "metadata": {},
   "outputs": [],
   "source": [
    "# Define the synapse weights and spike times for each neuron\n",
    "neuron_num=2\n",
    "neuron_input_num=2\n",
    "neuron1_synapse_weights = [10, 30]\n",
    "neuron1_threshold = 1000\n",
    "neuron2_synapse_weights = [40, 50]\n",
    "neuron2_threshold = 1000\n",
    "thresholds = [neuron1_threshold, neuron2_threshold]\n",
    "synapse_weights = [neuron1_synapse_weights, neuron2_synapse_weights]\n",
    "spike_times = [[50], [100, 200]]\n",
    "\n",
    "# Initialize the layer with two neurons\n",
    "layer = Layer(neuron_num=neuron_num, neuron_input_num=neuron_input_num, synapse_weights=synapse_weights, synapse_spikes=spike_times, threshold=thresholds)\n",
    "\n",
    "# Run the simulation for 1000 time steps\n",
    "lo = layer.runlayer(time=1000)[0]\n",
    "neuron_indexes = layer.runlayer(time=1000)[1]\n",
    "#neuron_indexes\n",
    "\n"
   ]
  },
  {
   "cell_type": "code",
   "execution_count": 1076,
   "id": "bfbafff6",
   "metadata": {},
   "outputs": [
    {
     "data": {
      "image/png": "[encoded data removed]",
      "text/plain": [
       "<Figure size 432x288 with 1 Axes>"
      ]
     },
     "metadata": {
      "needs_background": "light"
     },
     "output_type": "display_data"
    }
   ],
   "source": [
    "plt.plot(range(999), lo[0])\n",
    "plt.xlabel('Time')\n",
    "plt.ylabel('Level Output')\n",
    "plt.title('Output of level')\n",
    "plt.show()"
   ]
  },
  {
   "cell_type": "code",
   "execution_count": 1077,
   "id": "eb3e3410",
   "metadata": {
    "scrolled": true
   },
   "outputs": [
    {
     "data": {
      "text/plain": [
       "<matplotlib.legend.Legend at 0x18ca9b38>"
      ]
     },
     "execution_count": 1077,
     "metadata": {},
     "output_type": "execute_result"
    },
    {
     "data": {
      "image/png": "[encoded data removed]",
      "text/plain": [
       "<Figure size 432x288 with 1 Axes>"
      ]
     },
     "metadata": {
      "needs_background": "light"
     },
     "output_type": "display_data"
    }
   ],
   "source": [
    "for n in layer.neurons:\n",
    "    plt.plot(range(1000), n.run(time=1000))\n",
    "    \n",
    "plt.legend([\"N1\", \"N2\"])"
   ]
  },
  {
   "cell_type": "code",
   "execution_count": 1078,
   "id": "430503f2",
   "metadata": {},
   "outputs": [
    {
     "data": {
      "text/plain": [
       "<matplotlib.legend.Legend at 0x19d45358>"
      ]
     },
     "execution_count": 1078,
     "metadata": {},
     "output_type": "execute_result"
    },
    {
     "data": {
      "image/png": "[encoded data removed]",
      "text/plain": [
       "<Figure size 432x288 with 1 Axes>"
      ]
     },
     "metadata": {
      "needs_background": "light"
     },
     "output_type": "display_data"
    }
   ],
   "source": [
    "m=layer.neurons\n",
    "for i in m:\n",
    "    j= i.synapses\n",
    "    \n",
    "for k in j:\n",
    "    plt.plot(range(1000), k.run(time=1000))\n",
    "\n",
    "plt.legend([\"s1\",\"s2\",\"s3\",\"s4\"])"
   ]
  },
  {
   "cell_type": "code",
   "execution_count": 1079,
   "id": "a7769b36",
   "metadata": {},
   "outputs": [
    {
     "data": {
      "text/plain": [
       "[<matplotlib.lines.Line2D at 0x19da2f28>]"
      ]
     },
     "execution_count": 1079,
     "metadata": {},
     "output_type": "execute_result"
    },
    {
     "data": {
      "image/png": "[encoded data removed]",
      "text/plain": [
       "<Figure size 432x288 with 1 Axes>"
      ]
     },
     "metadata": {
      "needs_background": "light"
     },
     "output_type": "display_data"
    }
   ],
   "source": [
    "plt.plot(range(999), neuron_indexes)"
   ]
  },
  {
   "cell_type": "code",
   "execution_count": 1080,
   "id": "135194df",
   "metadata": {},
   "outputs": [],
   "source": [
    "#layer with four neurons each neuron 2 inputs\n",
    "neuron_num=4\n",
    "neuron_input_num=2\n",
    "neuron1_synapse_weights = [100, 100, 100, 100]\n",
    "neuron1_threshold = 20000\n",
    "neuron2_synapse_weights = [100, 200, 200, 100]\n",
    "neuron2_threshold = 80000\n",
    "neuron3_synapse_weights = [200, 100, 100, 200]\n",
    "neuron3_threshold = 40000\n",
    "neuron4_synapse_weights = [200, 200, 200, 200]\n",
    "neuron4_threshold = 125000\n",
    "thresholds = [neuron1_threshold, neuron2_threshold, neuron3_threshold, neuron4_threshold]\n",
    "synapse_weights = [neuron1_synapse_weights, neuron2_synapse_weights, neuron3_synapse_weights, neuron4_synapse_weights]\n",
    "spike_times = [[100, 200] for _ in range(neuron_input_num)]\n",
    "\n",
    "# Initialize the layer with two neurons\n",
    "L2 = Layer(neuron_num=neuron_num, neuron_input_num=neuron_input_num, synapse_weights= synapse_weights, synapse_spikes= spike_times, threshold= thresholds)\n",
    "\n",
    "# Run the simulation for 1000 time steps\n",
    "lo = L2.runlayer(time=1000)[0]\n",
    "neuron_indexes = L2.runlayer(time=1000)[1]\n",
    "x = layer_output_spike(spike_times,  L2.runlayer(time=1000)[1], neuron_num )\n",
    "#neuron_indexes"
   ]
  },
  {
   "cell_type": "code",
   "execution_count": 1081,
   "id": "2719f408",
   "metadata": {
    "scrolled": true
   },
   "outputs": [
    {
     "data": {
      "text/plain": [
       "<matplotlib.legend.Legend at 0x19d910d0>"
      ]
     },
     "execution_count": 1081,
     "metadata": {},
     "output_type": "execute_result"
    },
    {
     "data": {
      "image/png": "[encoded data removed]",
      "text/plain": [
       "<Figure size 432x288 with 1 Axes>"
      ]
     },
     "metadata": {
      "needs_background": "light"
     },
     "output_type": "display_data"
    }
   ],
   "source": [
    "for n in L2.neurons:\n",
    "    plt.plot(range(1000), n.run(time=1000))\n",
    "plt.legend([\"N1\", \"N2\", \"N3\", \"N4\"])\n",
    "\n"
   ]
  },
  {
   "cell_type": "code",
   "execution_count": 1082,
   "id": "a329964c",
   "metadata": {
    "scrolled": true
   },
   "outputs": [
    {
     "data": {
      "text/plain": [
       "[<matplotlib.lines.Line2D at 0x19e1e9e8>]"
      ]
     },
     "execution_count": 1082,
     "metadata": {},
     "output_type": "execute_result"
    },
    {
     "data": {
      "image/png": "[encoded data removed]",
      "text/plain": [
       "<Figure size 432x288 with 1 Axes>"
      ]
     },
     "metadata": {
      "needs_background": "light"
     },
     "output_type": "display_data"
    }
   ],
   "source": [
    "plt.plot(neuron_indexes)"
   ]
  },
  {
   "cell_type": "code",
   "execution_count": 1083,
   "id": "c285f766",
   "metadata": {},
   "outputs": [
    {
     "data": {
      "text/plain": [
       "[[], [], [100], [200]]"
      ]
     },
     "execution_count": 1083,
     "metadata": {},
     "output_type": "execute_result"
    }
   ],
   "source": [
    "x    "
   ]
  },
  {
   "cell_type": "code",
   "execution_count": 1084,
   "id": "9f2358e6",
   "metadata": {},
   "outputs": [],
   "source": [
    "spike_times = [[10, 50, 120, 400], [10, 80, 100], [10, 50, 100, 200, 300]] "
   ]
  },
  {
   "cell_type": "code",
   "execution_count": 1085,
   "id": "aa9672ee",
   "metadata": {},
   "outputs": [],
   "source": [
    "def flatten_td(_2d_list):\n",
    "    if not isinstance(_2d_list, list):\n",
    "        return [_2d_list]  \n",
    "    _1d_list = []\n",
    "    seen = set()\n",
    "    for i in _2d_list:\n",
    "        if isinstance(i, list):\n",
    "            for j in i:\n",
    "                if j not in seen:\n",
    "                    seen.add(j)\n",
    "                    _1d_list.append(j)\n",
    "        else:\n",
    "            if i not in seen:\n",
    "                seen.add(i)\n",
    "                _1d_list.append(i)\n",
    "    \n",
    "    _1d_list.sort()\n",
    "    return _1d_list\n"
   ]
  },
  {
   "cell_type": "code",
   "execution_count": 1086,
   "id": "6d2be39a",
   "metadata": {},
   "outputs": [
    {
     "data": {
      "text/plain": [
       "[10, 50, 80, 100, 120, 200, 300, 400]"
      ]
     },
     "execution_count": 1086,
     "metadata": {},
     "output_type": "execute_result"
    }
   ],
   "source": [
    "a = flatten_td(spike_times)\n",
    "a"
   ]
  },
  {
   "cell_type": "code",
   "execution_count": 1087,
   "id": "dd1bbed6",
   "metadata": {},
   "outputs": [],
   "source": [
    "def flt(ddl):\n",
    "    dl =[]\n",
    "    for i in ddl:\n",
    "        for j in i:\n",
    "            dl.append(j)\n",
    "    dl.sort()\n",
    "    x = set(dl)\n",
    "   # y = list(x)\n",
    "    return x\n"
   ]
  },
  {
   "cell_type": "code",
   "execution_count": 1088,
   "id": "120b18a6",
   "metadata": {},
   "outputs": [
    {
     "data": {
      "text/plain": [
       "{10, 50, 80, 100, 120, 200, 300, 400}"
      ]
     },
     "execution_count": 1088,
     "metadata": {},
     "output_type": "execute_result"
    }
   ],
   "source": [
    "a = flt(spike_times)\n",
    "a"
   ]
  },
  {
   "cell_type": "code",
   "execution_count": 1089,
   "id": "7f779741",
   "metadata": {},
   "outputs": [],
   "source": [
    "\n",
    "neuron_num=4\n",
    "neuron_input_num=2\n",
    "neuron1_synapse_weights = [100, 100, 100, 100]\n",
    "neuron1_threshold = 20000\n",
    "neuron2_synapse_weights = [100, 200, 200, 100]\n",
    "neuron2_threshold = 80000\n",
    "neuron3_synapse_weights = [200, 100, 100, 200]\n",
    "neuron3_threshold = 40000\n",
    "neuron4_synapse_weights = [200, 200, 200, 200]\n",
    "neuron4_threshold = 125000\n",
    "thresholds = [neuron1_threshold, neuron2_threshold, neuron3_threshold, neuron4_threshold]\n",
    "synapse_weights = [neuron1_synapse_weights, neuron2_synapse_weights, neuron3_synapse_weights, neuron4_synapse_weights]\n",
    "spike_times = [[100, 200] for _ in range(neuron_input_num)]\n",
    "\n",
    "label_spikes = [[[100,150],[]], [[],[100,150]], [[100],[150]],[[150],[100]]]\n",
    "\n",
    "L2 = Layer(neuron_num=neuron_num, neuron_input_num=neuron_input_num, synapse_weights= synapse_weights, synapse_spikes= spike_times, threshold= thresholds)"
   ]
  },
  {
   "cell_type": "code",
   "execution_count": 1090,
   "id": "5a18440d",
   "metadata": {},
   "outputs": [],
   "source": [
    "label_spikes = [[[100,150],[]], [[],[100,150]], [[100],[150]],[[150],[100]]]"
   ]
  },
  {
   "cell_type": "code",
   "execution_count": 1091,
   "id": "a9ac31db",
   "metadata": {},
   "outputs": [
    {
     "ename": "NameError",
     "evalue": "name 'punish' is not defined",
     "output_type": "error",
     "traceback": [
      "\u001b[1;31m---------------------------------------------------------------------------\u001b[0m",
      "\u001b[1;31mNameError\u001b[0m                                 Traceback (most recent call last)",
      "\u001b[1;32m<ipython-input-1091-eb06d6a613b6>\u001b[0m in \u001b[0;36m<module>\u001b[1;34m\u001b[0m\n\u001b[0;32m      7\u001b[0m         \u001b[0mreward\u001b[0m\u001b[1;33m(\u001b[0m\u001b[0mi\u001b[0m\u001b[1;33m)\u001b[0m\u001b[1;33m\u001b[0m\u001b[1;33m\u001b[0m\u001b[0m\n\u001b[0;32m      8\u001b[0m     \u001b[1;32melse\u001b[0m\u001b[1;33m:\u001b[0m\u001b[1;33m\u001b[0m\u001b[1;33m\u001b[0m\u001b[0m\n\u001b[1;32m----> 9\u001b[1;33m         \u001b[0mpunish\u001b[0m\u001b[1;33m(\u001b[0m\u001b[1;33m)\u001b[0m\u001b[1;33m\u001b[0m\u001b[1;33m\u001b[0m\u001b[0m\n\u001b[0m\u001b[0;32m     10\u001b[0m \u001b[1;33m\u001b[0m\u001b[0m\n\u001b[0;32m     11\u001b[0m \u001b[1;33m\u001b[0m\u001b[0m\n",
      "\u001b[1;31mNameError\u001b[0m: name 'punish' is not defined"
     ]
    }
   ],
   "source": [
    "len(label_spikes)\n",
    "\n",
    "for i in range(len(label_spikes)):\n",
    "    L2 = Layer(neuron_num=neuron_num, neuron_input_num=neuron_input_num, synapse_weights= synapse_weights, synapse_spikes= spike_times, threshold= thresholds)\n",
    "    x = layer_output_spike(spike_times,  L2.runlayer(time=1000)[1], neuron_num)\n",
    "    if(x == label_spikes[i]):\n",
    "        reward(i)\n",
    "    else:\n",
    "        punish()\n",
    "        \n",
    "\n",
    "        \n",
    "\n",
    "def punish():\n",
    "    delta = 0xf\n",
    "    for i in range(len(label_spikes)):\n",
    "        thresholds[i] = thresholds[i] - delta    \n",
    "        "
   ]
  },
  {
   "cell_type": "code",
   "execution_count": 1095,
   "id": "34c6b76e",
   "metadata": {},
   "outputs": [
    {
     "name": "stdout",
     "output_type": "stream",
     "text": [
      "20000\n",
      "80000\n",
      "40000\n",
      "125000\n"
     ]
    }
   ],
   "source": [
    "m = L2.neurons\n",
    "for i in range(len(m)):\n",
    "    print(m[i].threshold)"
   ]
  },
  {
   "cell_type": "code",
   "execution_count": 1098,
   "id": "daaf2f02",
   "metadata": {},
   "outputs": [
    {
     "data": {
      "text/plain": [
       "100"
      ]
     },
     "execution_count": 1098,
     "metadata": {},
     "output_type": "execute_result"
    }
   ],
   "source": [
    "m[0].synapse_weights[1]"
   ]
  },
  {
   "cell_type": "code",
   "execution_count": 1099,
   "id": "0826ad9a",
   "metadata": {},
   "outputs": [],
   "source": [
    "def punish():\n",
    "    delta = 0xf\n",
    "    for i in range(len(label_spikes)):\n",
    "        thresholds[i] = thresholds[i] - delta  "
   ]
  },
  {
   "cell_type": "code",
   "execution_count": 1100,
   "id": "c50b9247",
   "metadata": {},
   "outputs": [],
   "source": [
    "def reward(i,ts):\n",
    "    m = L2.neuron\n",
    "    s = m.synapses\n",
    "    lv = m[i].run(ts)[-1]\n",
    "    thresholds[i] = thresholds[i] - int(eta*(thresholds[i]-lv))\n",
    "    \n",
    "    synapse_weights[i] = synapse_weights[i] -int(eta*(synapse_weights[i]))"
   ]
  },
  {
   "cell_type": "code",
   "execution_count": 1101,
   "id": "27f54398",
   "metadata": {},
   "outputs": [
    {
     "data": {
      "text/plain": [
       "[100, 200, 200, 100]"
      ]
     },
     "execution_count": 1101,
     "metadata": {},
     "output_type": "execute_result"
    }
   ],
   "source": [
    "synapse_weights[1]"
   ]
  },
  {
   "cell_type": "code",
   "execution_count": 1109,
   "id": "e8c83c66",
   "metadata": {},
   "outputs": [
    {
     "data": {
      "text/plain": [
       "100"
      ]
     },
     "execution_count": 1109,
     "metadata": {},
     "output_type": "execute_result"
    }
   ],
   "source": [
    "label_spikes[3][-1][0]"
   ]
  },
  {
   "cell_type": "code",
   "execution_count": 1117,
   "id": "cf8f5174",
   "metadata": {},
   "outputs": [
    {
     "data": {
      "text/plain": [
       "[<matplotlib.lines.Line2D at 0x19e4f970>]"
      ]
     },
     "execution_count": 1117,
     "metadata": {},
     "output_type": "execute_result"
    },
    {
     "data": {
      "image/png": "[encoded data removed]",
      "text/plain": [
       "<Figure size 432x288 with 1 Axes>"
      ]
     },
     "metadata": {
      "needs_background": "light"
     },
     "output_type": "display_data"
    }
   ],
   "source": [
    "m = L2.neurons\n",
    "plt.plot(m[1].run(150)) #label_spikes[2][-1][0])[-1]"
   ]
  },
  {
   "cell_type": "code",
   "execution_count": 1115,
   "id": "728f3e18",
   "metadata": {},
   "outputs": [
    {
     "data": {
      "text/plain": [
       "150"
      ]
     },
     "execution_count": 1115,
     "metadata": {},
     "output_type": "execute_result"
    }
   ],
   "source": [
    "label_spikes[2][-1][0]  #get the timestamp have to look for spike"
   ]
  },
  {
   "cell_type": "code",
   "execution_count": 1119,
   "id": "19eb323d",
   "metadata": {},
   "outputs": [
    {
     "data": {
      "text/plain": [
       "160500"
      ]
     },
     "execution_count": 1119,
     "metadata": {},
     "output_type": "execute_result"
    }
   ],
   "source": [
    "m[1].run(150)[-1]"
   ]
  },
  {
   "cell_type": "code",
   "execution_count": 1142,
   "id": "0a580b95",
   "metadata": {},
   "outputs": [
    {
     "data": {
      "text/plain": [
       "0                           53500\n",
       "1                          107000\n",
       "2    [0, 0, 1, 2, 3, 6, 7, 9, 11]\n",
       "dtype: object"
      ]
     },
     "execution_count": 1142,
     "metadata": {},
     "output_type": "execute_result"
    }
   ],
   "source": [
    "for i in range(len(m[1].synapses)):\n",
    "     s[i] = m[1].synapses[i].membrane_potential\n",
    "\n",
    "s"
   ]
  },
  {
   "cell_type": "code",
   "execution_count": 1131,
   "id": "c56a01be",
   "metadata": {},
   "outputs": [
    {
     "data": {
      "text/plain": [
       "2"
      ]
     },
     "execution_count": 1131,
     "metadata": {},
     "output_type": "execute_result"
    }
   ],
   "source": [
    "len(m[1].synapses)"
   ]
  },
  {
   "cell_type": "code",
   "execution_count": 1129,
   "id": "6160c6d3",
   "metadata": {},
   "outputs": [
    {
     "data": {
      "text/plain": [
       "53500"
      ]
     },
     "execution_count": 1129,
     "metadata": {},
     "output_type": "execute_result"
    }
   ],
   "source": [
    "m[1].synapses[0].membrane_potential"
   ]
  },
  {
   "cell_type": "code",
   "execution_count": null,
   "id": "212ce411",
   "metadata": {},
   "outputs": [],
   "source": []
  }
 ],
 "metadata": {
  "kernelspec": {
   "display_name": "Python 3",
   "language": "python",
   "name": "python3"
  },
  "language_info": {
   "codemirror_mode": {
    "name": "ipython",
    "version": 3
   },
   "file_extension": ".py",
   "mimetype": "text/x-python",
   "name": "python",
   "nbconvert_exporter": "python",
   "pygments_lexer": "ipython3",
   "version": "3.8.8"
  }
 },
 "nbformat": 4,
 "nbformat_minor": 5
}
